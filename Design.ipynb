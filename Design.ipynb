{
 "cells": [
  {
   "cell_type": "markdown",
   "metadata": {},
   "source": [
    " Extract Images from PDF"
   ]
  },
  {
   "cell_type": "code",
   "execution_count": 2,
   "metadata": {},
   "outputs": [
    {
     "ename": "ModuleNotFoundError",
     "evalue": "No module named 'pdf2image'",
     "output_type": "error",
     "traceback": [
      "\u001b[1;31m---------------------------------------------------------------------------\u001b[0m",
      "\u001b[1;31mModuleNotFoundError\u001b[0m                       Traceback (most recent call last)",
      "Cell \u001b[1;32mIn[2], line 1\u001b[0m\n\u001b[1;32m----> 1\u001b[0m \u001b[38;5;28;01mfrom\u001b[39;00m \u001b[38;5;21;01mpdf2image\u001b[39;00m \u001b[38;5;28;01mimport\u001b[39;00m convert_from_path\n\u001b[0;32m      2\u001b[0m \u001b[38;5;28;01mimport\u001b[39;00m \u001b[38;5;21;01mos\u001b[39;00m\n\u001b[0;32m      3\u001b[0m \u001b[38;5;28;01mimport\u001b[39;00m \u001b[38;5;21;01mglob\u001b[39;00m\n",
      "\u001b[1;31mModuleNotFoundError\u001b[0m: No module named 'pdf2image'"
     ]
    }
   ],
   "source": [
    "from pdf2image import convert_from_path\n",
    "import os\n",
    "import glob\n",
    "\n",
    "def extract_images_from_pdfs(folder_path, output_folder=\"/content/images\"):\n",
    "    os.makedirs(output_folder, exist_ok=True)\n",
    "    pdf_files = sorted(glob.glob(os.path.join(folder_path, \"*.pdf\")))\n",
    "\n",
    "    all_image_paths = []\n",
    "    for pdf_file in pdf_files:\n",
    "        pdf_name = os.path.splitext(os.path.basename(pdf_file))[0]\n",
    "        images = convert_from_path(pdf_file)\n",
    "\n",
    "        for i, img in enumerate(images):\n",
    "            img_path = os.path.join(output_folder, f\"{pdf_name}_page_{i+1}.png\")\n",
    "            img.save(img_path, \"PNG\")\n",
    "            all_image_paths.append(img_path)\n",
    "\n",
    "    return all_image_paths\n"
   ]
  }
 ],
 "metadata": {
  "kernelspec": {
   "display_name": "Python 3",
   "language": "python",
   "name": "python3"
  },
  "language_info": {
   "codemirror_mode": {
    "name": "ipython",
    "version": 3
   },
   "file_extension": ".py",
   "mimetype": "text/x-python",
   "name": "python",
   "nbconvert_exporter": "python",
   "pygments_lexer": "ipython3",
   "version": "3.10.11"
  }
 },
 "nbformat": 4,
 "nbformat_minor": 2
}
